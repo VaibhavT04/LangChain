{
 "cells": [
  {
   "cell_type": "code",
   "execution_count": 7,
   "id": "e2f9aad1",
   "metadata": {},
   "outputs": [],
   "source": [
    "from langchain_community.document_loaders import PyPDFLoader\n",
    "loader = PyPDFLoader(\"SQL.pdf\")\n",
    "docs=loader.load()"
   ]
  },
  {
   "cell_type": "code",
   "execution_count": 12,
   "id": "9362fb51",
   "metadata": {},
   "outputs": [
    {
     "data": {
      "text/plain": [
       "Document(metadata={'producer': 'Canva', 'creator': 'Canva', 'creationdate': '2023-08-18T16:21:57+00:00', 'moddate': '2023-08-18T16:21:54+00:00', 'keywords': 'DAFrbWAV1Yk,BAEHDsZUYOI', 'author': 'Rahul Neha', 'title': 'SQL (notes)', 'source': 'SQL.pdf', 'total_pages': 59, 'page': 3, 'page_label': '4'}, page_content='What is SQL?\\nSQL is a programming language used to interact with relational databases.\\nStructured Query Language\\nIt is used to perform CRUD operations :\\nCreate\\nRead\\nUpdate\\nDelete\\nA P N A\\n C O L L E G E')"
      ]
     },
     "execution_count": 12,
     "metadata": {},
     "output_type": "execute_result"
    }
   ],
   "source": [
    "from langchain_text_splitters import RecursiveCharacterTextSplitter\n",
    "text_splitter=RecursiveCharacterTextSplitter(chunk_size=300, chunk_overlap=20)\n",
    "final_doc=text_splitter.split_documents(docs)\n",
    "final_doc[3]"
   ]
  },
  {
   "cell_type": "code",
   "execution_count": 13,
   "id": "a409cf00",
   "metadata": {},
   "outputs": [
    {
     "data": {
      "text/plain": [
       "[Document(metadata={'source': 'sample.txt'}, page_content=\"The UEFA Champions League (UCL), usually known simply as the Champions League, is an annual club association football competition organised by the Union of European Football Associations (UEFA) that is contested by top-division European clubs. The competition begins with a round robin league phase to qualify for the double-legged knockout rounds, and a single-leg final. It is the most-watched club competition in the world and the third most-watched football competition overall, behind only the FIFA World Cup and the UEFA European Championship. It is one of the most prestigious football tournaments in the world and the most prestigious club competition in European football, played by the national league champions (and, for some nations, one or more runners-up) of their national associations.\\n\\nIntroduced in 1955 as the European Champion Clubs' Cup (French: Coupe des Clubs Champions Européens), and commonly known as the European Cup, it was initially a straight knockout tournament open only to the champions of Europe's domestic leagues, with its winner reckoned as the European club champion. The competition took on its current name in 1992, adding a round-robin group stage in 1991 and allowing multiple entrants from certain countries since the 1997–98 season.[1] While only the winners of many of Europe's national leagues can enter the competition, the top 5 leagues by coefficient provide four teams each by default,[2] with a possibility for additional spots based on performance during the previous season.[3][4] Clubs that finish below the qualifying spots are eligible for the second-tier UEFA Europa League competition, and since 2021, for the third-tier UEFA Conference League.[5]\\n\\nIn its present format, the Champions League begins in early July with three qualifying rounds and a play-off round, all played over two legs. The seven surviving teams enter the league phase, joining 29 teams qualified in advance. The 36 teams each play eight opponents, four home and four away. The 24 highest-ranked teams proceed to the knockout phase that culminates with the final match in late May or early June.[6] The winner of the Champions League automatically qualifies for the following year's Champions League, the UEFA Super Cup, the FIFA Intercontinental Cup and the FIFA Club World Cup.[7][8]\\n\\nSpanish clubs have the most victories (20 wins), followed by England (15 wins), Italy (12 wins), Germany (8 wins), Netherlands (6 wins) and Portugal (4 wins).[9] England has the most winning teams, with six clubs having won the title. The competition has been won by 24 clubs and 13 of them have won it more than once.[10] Since the tournament changed name and structure in 1992, only two top-tier football clubs outside the Big Five European nations (Spain, England, Italy, Germany and France) have also reached the final: Porto (2003–04) and Ajax (1994–95 and 1995–96).\\n\\nReal Madrid is the most successful club in the tournament's history, having won it 15 times.[11] Madrid is the only club to have won it five times in a row (the first five editions).[11] Only one club has won all of their matches in a single tournament en route to the tournament victory: Bayern Munich in the 2019–20 season.[12] Paris Saint-Germain are the current European champions, having beaten Inter Milan 5–0 in the 2025 final for their first ever title.\")]"
      ]
     },
     "execution_count": 13,
     "metadata": {},
     "output_type": "execute_result"
    }
   ],
   "source": [
    "from langchain_community.document_loaders import TextLoader\n",
    "loader = TextLoader(\"sample.txt\")\n",
    "docs=loader.load()\n",
    "docs"
   ]
  },
  {
   "cell_type": "code",
   "execution_count": null,
   "id": "edd9c76f",
   "metadata": {},
   "outputs": [
    {
     "data": {
      "text/plain": [
       "\"The UEFA Champions League (UCL), usually known simply as the Champions League, is an annual club association football competition organised by the Union of European Football Associations (UEFA) that is contested by top-division European clubs. The competition begins with a round robin league phase to qualify for the double-legged knockout rounds, and a single-leg final. It is the most-watched club competition in the world and the third most-watched football competition overall, behind only the FIFA World Cup and the UEFA European Championship. It is one of the most prestigious football tournaments in the world and the most prestigious club competition in European football, played by the national league champions (and, for some nations, one or more runners-up) of their national associations.\\n\\nIntroduced in 1955 as the European Champion Clubs' Cup (French: Coupe des Clubs Champions Européens), and commonly known as the European Cup, it was initially a straight knockout tournament open only to the champions of Europe's domestic leagues, with its winner reckoned as the European club champion. The competition took on its current name in 1992, adding a round-robin group stage in 1991 and allowing multiple entrants from certain countries since the 1997–98 season.[1] While only the winners of many of Europe's national leagues can enter the competition, the top 5 leagues by coefficient provide four teams each by default,[2] with a possibility for additional spots based on performance during the previous season.[3][4] Clubs that finish below the qualifying spots are eligible for the second-tier UEFA Europa League competition, and since 2021, for the third-tier UEFA Conference League.[5]\\n\\nIn its present format, the Champions League begins in early July with three qualifying rounds and a play-off round, all played over two legs. The seven surviving teams enter the league phase, joining 29 teams qualified in advance. The 36 teams each play eight opponents, four home and four away. The 24 highest-ranked teams proceed to the knockout phase that culminates with the final match in late May or early June.[6] The winner of the Champions League automatically qualifies for the following year's Champions League, the UEFA Super Cup, the FIFA Intercontinental Cup and the FIFA Club World Cup.[7][8]\\n\\nSpanish clubs have the most victories (20 wins), followed by England (15 wins), Italy (12 wins), Germany (8 wins), Netherlands (6 wins) and Portugal (4 wins).[9] England has the most winning teams, with six clubs having won the title. The competition has been won by 24 clubs and 13 of them have won it more than once.[10] Since the tournament changed name and structure in 1992, only two top-tier football clubs outside the Big Five European nations (Spain, England, Italy, Germany and France) have also reached the final: Porto (2003–04) and Ajax (1994–95 and 1995–96).\\n\\nReal Madrid is the most successful club in the tournament's history, having won it 15 times.[11] Madrid is the only club to have won it five times in a row (the first five editions).[11] Only one club has won all of their matches in a single tournament en route to the tournament victory: Bayern Munich in the 2019–20 season.[12] Paris Saint-Germain are the current European champions, having beaten Inter Milan 5–0 in the 2025 final for their first ever title.\""
      ]
     },
     "execution_count": 15,
     "metadata": {},
     "output_type": "execute_result"
    }
   ],
   "source": [
    "speech=\"\"\n",
    "with open(\"sample.txt\") as file:\n",
    "    speech=file.read()\n",
    "\n",
    "speech"
   ]
  },
  {
   "cell_type": "code",
   "execution_count": 21,
   "id": "5bb986e1",
   "metadata": {},
   "outputs": [
    {
     "name": "stdout",
     "output_type": "stream",
     "text": [
      "page_content='The UEFA Champions League (UCL), usually known simply as the Champions League, is an annual club association football competition organised by the Union of European Football Associations (UEFA) that'\n"
     ]
    },
    {
     "data": {
      "text/plain": [
       "Document(metadata={}, page_content='of European Football Associations (UEFA) that is contested by top-division European clubs. The competition begins with a round robin league phase to qualify for the double-legged knockout rounds, and')"
      ]
     },
     "execution_count": 21,
     "metadata": {},
     "output_type": "execute_result"
    }
   ],
   "source": [
    "text_splitter=RecursiveCharacterTextSplitter(chunk_size=200, chunk_overlap=50)\n",
    "final = text_splitter.create_documents([speech])\n",
    "print(final[0])\n",
    "final[1]"
   ]
  },
  {
   "cell_type": "code",
   "execution_count": null,
   "id": "5827d88c",
   "metadata": {},
   "outputs": [],
   "source": []
  }
 ],
 "metadata": {
  "kernelspec": {
   "display_name": "Python 3",
   "language": "python",
   "name": "python3"
  },
  "language_info": {
   "codemirror_mode": {
    "name": "ipython",
    "version": 3
   },
   "file_extension": ".py",
   "mimetype": "text/x-python",
   "name": "python",
   "nbconvert_exporter": "python",
   "pygments_lexer": "ipython3",
   "version": "3.10.0"
  }
 },
 "nbformat": 4,
 "nbformat_minor": 5
}
