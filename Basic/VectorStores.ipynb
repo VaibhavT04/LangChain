{
 "cells": [
  {
   "cell_type": "code",
   "execution_count": 1,
   "id": "27f48d1b",
   "metadata": {},
   "outputs": [],
   "source": [
    "from langchain_community.vectorstores import FAISS\n",
    "from langchain_community.document_loaders import PyPDFLoader\n",
    "from langchain_community.embeddings import OllamaEmbeddings\n",
    "from langchain_text_splitters import RecursiveCharacterTextSplitter\n",
    "\n",
    "\n",
    "loader = PyPDFLoader(\"OS.pdf\")\n",
    "document=loader.load()"
   ]
  },
  {
   "cell_type": "code",
   "execution_count": 2,
   "id": "301ee75c",
   "metadata": {},
   "outputs": [
    {
     "data": {
      "text/plain": [
       "[Document(metadata={'producer': 'Skia/PDF m93 Google Docs Renderer', 'creator': 'PyPDF', 'creationdate': '', 'title': 'Operating System Notes', 'source': 'OS.pdf', 'total_pages': 12, 'page': 0, 'page_label': '1'}, page_content='Operating Systems\\n● AnOperatingSystemcanbedefinedasaninterfacebetweenuserandhardware.Itis responsible for the execution of all the processes, Resource Allocation, CPUmanagement, File Management and many other tasks. The purpose of an operatingsystem is to provide an environment in which a user can execute programs in aconvenient and efficient manner.\\n●\\nTypes of Operating Systems:'),\n",
       " Document(metadata={'producer': 'Skia/PDF m93 Google Docs Renderer', 'creator': 'PyPDF', 'creationdate': '', 'title': 'Operating System Notes', 'source': 'OS.pdf', 'total_pages': 12, 'page': 0, 'page_label': '1'}, page_content='1. Batch OS–A set of similar jobs are stored in themain memory for execution. A job getsassigned to the CPU, only when the execution of theprevious job completes.2. Multiprogramming OS–The main memory consists ofjobs waiting for CPU time. TheOS selects one of the processes and assigns it tothe CPU. Whenever the executingprocess needs to wait for any other operation (likeI/O), the OS selects another processfrom the job queue and assigns it to the CPU.Thisway, the CPU is never kept idleand the user gets the flavor of getting multiple tasksdone at once.3. Multitasking OS–Multitasking OS combines'),\n",
       " Document(metadata={'producer': 'Skia/PDF m93 Google Docs Renderer', 'creator': 'PyPDF', 'creationdate': '', 'title': 'Operating System Notes', 'source': 'OS.pdf', 'total_pages': 12, 'page': 0, 'page_label': '1'}, page_content='at once.3. Multitasking OS–Multitasking OS combines the benefitsofMultiprogramming OSand CPU schedulingto perform quick switches betweenjobs. The switch is so quickthat the user can interact with each program as itruns.4. Time Sharing OS–Time-sharing systems require interactionwith the user to instructthe OS to perform various tasks. The OS responds withan output. The instructions areusually given through an input device like the keyboard.5. Real Time OS–Real-Time OS are usually built fordedicated systems to accomplish aspecific set of tasks within deadlines.'),\n",
       " Document(metadata={'producer': 'Skia/PDF m93 Google Docs Renderer', 'creator': 'PyPDF', 'creationdate': '', 'title': 'Operating System Notes', 'source': 'OS.pdf', 'total_pages': 12, 'page': 0, 'page_label': '1'}, page_content='● Process:A process is a program under execution. The value of the program counter(PC) indicates the address of the next instructionof the process being executed.Each process is represented by a Process Control Block(PCB).\\nApni Kaksha 1'),\n",
       " Document(metadata={'producer': 'Skia/PDF m93 Google Docs Renderer', 'creator': 'PyPDF', 'creationdate': '', 'title': 'Operating System Notes', 'source': 'OS.pdf', 'total_pages': 12, 'page': 1, 'page_label': '2'}, page_content='● Process Scheduling:\\n1. Arrival Time–Time at which the process arrives inthe ready queue.\\n2. Completion Time–Time at which process completesits execution.\\n3. Burst Time–Time required by a process for CPU execution.\\n4. Turn Around Time–Time Difference between completiontime and arrival time.\\nTurn Around Time = Completion Time - Arrival Time\\n5. Waiting Time (WT)–Time Difference between turn aroundtime and burst time.\\nWaiting Time = Turnaround Time - Burst Time\\n● Thread(Important):A thread is a lightweight processand forms the basic unit of'),\n",
       " Document(metadata={'producer': 'Skia/PDF m93 Google Docs Renderer', 'creator': 'PyPDF', 'creationdate': '', 'title': 'Operating System Notes', 'source': 'OS.pdf', 'total_pages': 12, 'page': 1, 'page_label': '2'}, page_content='CPU utilization. A process can perform more than one task at the same time by includingmultiple threads.\\n● A thread has its own program counter, register set, and stack\\n● A thread shares resources with other threads of thesame process: the code section,\\nthe data section, files and signals.\\nNote:A new thread, or a child process of a givenprocess, can be introduced by using\\nthe fork() system call. A process with n fork() systemcall generates 2^n\\n– 1 childprocesses.There are two types of threads:\\n● User threads (User threads are implemented by users)'),\n",
       " Document(metadata={'producer': 'Skia/PDF m93 Google Docs Renderer', 'creator': 'PyPDF', 'creationdate': '', 'title': 'Operating System Notes', 'source': 'OS.pdf', 'total_pages': 12, 'page': 1, 'page_label': '2'}, page_content='● User threads (User threads are implemented by users)\\n● Kernel threads (Kernel threads are implemented byOS)\\nApni Kaksha 2'),\n",
       " Document(metadata={'producer': 'Skia/PDF m93 Google Docs Renderer', 'creator': 'PyPDF', 'creationdate': '', 'title': 'Operating System Notes', 'source': 'OS.pdf', 'total_pages': 12, 'page': 2, 'page_label': '3'}, page_content='●\\nScheduling Algorithms :'),\n",
       " Document(metadata={'producer': 'Skia/PDF m93 Google Docs Renderer', 'creator': 'PyPDF', 'creationdate': '', 'title': 'Operating System Notes', 'source': 'OS.pdf', 'total_pages': 12, 'page': 2, 'page_label': '3'}, page_content='1. First Come First Serve (FCFS): Simplest schedulingalgorithm thatschedules according to arrival times of processes.2. Shortest Job First (SJF): Processes which have theshortest burst time arescheduled first.3. Shortest Remaining Time First (SRTF): It is a preemptivemode of SJFalgorithm in which jobs are scheduled according tothe shortest remainingtime.4. Round Robin (RR) Scheduling: Each process is assigneda fixed time, in acyclic way.5. Priority Based scheduling (Non Preemptive): In thisscheduling, processesare scheduled according to their priorities, i.e.,highest priority process'),\n",
       " Document(metadata={'producer': 'Skia/PDF m93 Google Docs Renderer', 'creator': 'PyPDF', 'creationdate': '', 'title': 'Operating System Notes', 'source': 'OS.pdf', 'total_pages': 12, 'page': 2, 'page_label': '3'}, page_content='to their priorities, i.e.,highest priority process isscheduled first. If priorities of two processes match,then scheduling isaccording to the arrival time.6. Highest Response Ratio Next (HRRN): In this scheduling,processes withthe highest response ratio are scheduled. This algorithmavoids starvation.Response Ratio = (Waiting Time + Burst time) / Burst time'),\n",
       " Document(metadata={'producer': 'Skia/PDF m93 Google Docs Renderer', 'creator': 'PyPDF', 'creationdate': '', 'title': 'Operating System Notes', 'source': 'OS.pdf', 'total_pages': 12, 'page': 2, 'page_label': '3'}, page_content='7. Multilevel Queue Scheduling (MLQ): According to thepriority of theprocess, processes are placed in the different queues.Generally high priorityprocesses are placed in the top level queue. Onlyafter completion ofprocesses from the top level queue, lower level queuedprocesses arescheduled.8. Multilevel Feedback Queue (MLFQ) Scheduling: It allowsthe process tomove in between queues. The idea is to separate processesaccording to thecharacteristics of their CPU bursts. If a processuses too much CPU time, it ismoved to a lower-priority queue.\\nApni Kaksha 3'),\n",
       " Document(metadata={'producer': 'Skia/PDF m93 Google Docs Renderer', 'creator': 'PyPDF', 'creationdate': '', 'title': 'Operating System Notes', 'source': 'OS.pdf', 'total_pages': 12, 'page': 3, 'page_label': '4'}, page_content='● The Critical Section Problem:\\n1. Critical Section–The portion of the code in theprogram where shared variables\\nare accessed and/or updated.\\n2. Remainder Section–The remaining portion of the programexcluding the Critical\\nSection.\\n3. Race around Condition–The final output of the codedepends on the order in\\nwhich the variables are accessed. This is termed asthe race around condition.\\nA solution for the critical section problem must satisfythe following three conditions:\\n1. Mutual Exclusion–If a process Pi is executing inits critical section, then no other'),\n",
       " Document(metadata={'producer': 'Skia/PDF m93 Google Docs Renderer', 'creator': 'PyPDF', 'creationdate': '', 'title': 'Operating System Notes', 'source': 'OS.pdf', 'total_pages': 12, 'page': 3, 'page_label': '4'}, page_content='process is allowed to enter into the critical section.\\n2. Progress–If no process is executing in the critical section, then the decision of a\\nprocess to enter a critical section cannot be madeby any other process that isexecuting in its remainder section. The selectionof the process cannot be postponedindefinitely.\\n3. Bounded Waiting–There exists a bound on the numberof times other processes\\ncan enter into the critical section after a processhas made a request to access thecritical section and before the request is granted.\\n● Synchronization Tools\\n:'),\n",
       " Document(metadata={'producer': 'Skia/PDF m93 Google Docs Renderer', 'creator': 'PyPDF', 'creationdate': '', 'title': 'Operating System Notes', 'source': 'OS.pdf', 'total_pages': 12, 'page': 3, 'page_label': '4'}, page_content='● Synchronization Tools\\n:\\n1. Semaphore:Semaphore is a protected variable or abstractdata type that isused to lock the resource being used. The value ofthe semaphore indicates thestatus of a common resource.\\nThere are two types of semaphores:Binary semaphores(Binary semaphores take only 0 and1 as value and are usedto implement mutual exclusion and synchronize concurrentprocesses.)Counting semaphores(A counting semaphore is an integer variable whose value\\ncan range over an unrestricted domain.\\n)\\nApni Kaksha 4'),\n",
       " Document(metadata={'producer': 'Skia/PDF m93 Google Docs Renderer', 'creator': 'PyPDF', 'creationdate': '', 'title': 'Operating System Notes', 'source': 'OS.pdf', 'total_pages': 12, 'page': 4, 'page_label': '5'}, page_content='Mutex (A mutex provides mutual exclusion, either producer or consumer canhave the key (mutex) and proceed with their work.As long as the buffer is filledby the producer, the consumer needs to wait, and viceversa.At any point of time, only one thread can work withthe entire buffer. The conceptcan be generalized using semaphore.)\\n●\\nDeadlocks(Important):\\nA situation where a set of processes are blocked becauseeach process is holding aresource and waiting for another resource acquiredby some other process. Deadlockcan arise if following four conditions hold simultaneously(Necessary Conditions):'),\n",
       " Document(metadata={'producer': 'Skia/PDF m93 Google Docs Renderer', 'creator': 'PyPDF', 'creationdate': '', 'title': 'Operating System Notes', 'source': 'OS.pdf', 'total_pages': 12, 'page': 4, 'page_label': '5'}, page_content='1. Mutual Exclusion–One or more than one resource isnon-sharable (Only one\\nprocess can use at a time).\\n2. Hold and Wait–A process is holding at least oneresource and waiting for\\nresources.\\n3. No Preemption–A resource cannot be taken from aprocess unless the process\\nreleases the resource.\\n4. Circular Wait–A set of processes are waiting for each other in circular form.\\n● Methods for handling deadlock\\n:There are three waysto handle deadlock\\n1. Deadlock prevention or avoidance: The idea is tonot let the system into a\\ndeadlock state.'),\n",
       " Document(metadata={'producer': 'Skia/PDF m93 Google Docs Renderer', 'creator': 'PyPDF', 'creationdate': '', 'title': 'Operating System Notes', 'source': 'OS.pdf', 'total_pages': 12, 'page': 4, 'page_label': '5'}, page_content='deadlock state.\\n2. Deadlock detection and recovery: Let deadlock occur,then do preemption to\\nhandle it once occurred.\\n3. Ignore the problem all together: If deadlock is veryrare, then let it happen and\\nreboot the system. This is the approach that bothWindows and UNIX take.\\nApni Kaksha 5'),\n",
       " Document(metadata={'producer': 'Skia/PDF m93 Google Docs Renderer', 'creator': 'PyPDF', 'creationdate': '', 'title': 'Operating System Notes', 'source': 'OS.pdf', 'total_pages': 12, 'page': 5, 'page_label': '6'}, page_content=\"● Banker's algorithmis used to avoid deadlock. It is one of the deadlock-avoidancemethods. It is named as Banker's algorithm on thebanking system where a banknever allocates available cash in such a manner thatit can no longer satisfy therequirements of all of its customers.\\n● Memory Management:These techniques allow the memoryto be shared amongmultiple processes.\\n● Overlays–The memory should contain only those instructionsand data that are\\nrequired at a given time.\\n● Swapping–In multiprogramming, the instructions thathave used the time slice are\\nswapped out from the memory.\\n● Techniques:\"),\n",
       " Document(metadata={'producer': 'Skia/PDF m93 Google Docs Renderer', 'creator': 'PyPDF', 'creationdate': '', 'title': 'Operating System Notes', 'source': 'OS.pdf', 'total_pages': 12, 'page': 5, 'page_label': '6'}, page_content='swapped out from the memory.\\n● Techniques:\\n(a)Single Partition Allocation Schemes–The memoryis divided into two parts. Onepart is kept to be used by the OS and the other iskept to be used by the users.\\n(b)Multiple Partition Schemes–\\n1. Fixed Partition –The memory is divided into fixedsize partitions.\\n2. Variable Partition –The memory is divided into variablesized partitions.\\nNote: Variable partition allocation schemes:\\n1. First Fit–The arriving process is allotted the firsthole of memory in which it fits\\ncompletely.'),\n",
       " Document(metadata={'producer': 'Skia/PDF m93 Google Docs Renderer', 'creator': 'PyPDF', 'creationdate': '', 'title': 'Operating System Notes', 'source': 'OS.pdf', 'total_pages': 12, 'page': 5, 'page_label': '6'}, page_content='completely.\\n2. Best Fit–The arriving process is allotted the holeof memory in which it fits the best\\nby leaving the minimum memory empty.\\n3. Worst Fit–The arriving process is allotted the holeof memory in which it leaves the\\nmaximum gap.\\nApni Kaksha 6'),\n",
       " Document(metadata={'producer': 'Skia/PDF m93 Google Docs Renderer', 'creator': 'PyPDF', 'creationdate': '', 'title': 'Operating System Notes', 'source': 'OS.pdf', 'total_pages': 12, 'page': 6, 'page_label': '7'}, page_content='Note:\\n● Best fit does not necessarily give the best resultsfor memory allocation.\\n● The cause of external fragmentation is the conditionin Fixed partitioning and\\nVariable partitioning saying that the entire processshould be allocated in acontiguous memory location.ThereforePagingis used.\\n1. Paging–The physical memory is divided into equal sized frames. The main memory\\nis divided into fixed size pages. The size of a physical memory frame is equal to thesize of a virtual memory frame.\\n2. Segmentation–Segmentation is implemented to giveusers a view of memory. The'),\n",
       " Document(metadata={'producer': 'Skia/PDF m93 Google Docs Renderer', 'creator': 'PyPDF', 'creationdate': '', 'title': 'Operating System Notes', 'source': 'OS.pdf', 'total_pages': 12, 'page': 6, 'page_label': '7'}, page_content='logical address space is a collection of segments.Segmentation can be implementedwith or without the use of paging.\\n● Page Fault:\\nA page fault is a type of interrupt, raised by thehardware when a running program accesses amemory page that is mapped into the virtual addressspace, but not loaded in physical memory.\\nPage Replacement Algorithms(Important):\\n1. First In First Out (FIFO) –'),\n",
       " Document(metadata={'producer': 'Skia/PDF m93 Google Docs Renderer', 'creator': 'PyPDF', 'creationdate': '', 'title': 'Operating System Notes', 'source': 'OS.pdf', 'total_pages': 12, 'page': 6, 'page_label': '7'}, page_content='This is the simplest page replacement algorithm. Inthis algorithm, the operatingsystem keeps track of all pages in the memory in aqueue, the oldest page is in thefront of the queue. When a page needs to be replaced,the page in the front of thequeue is selected for removal.For example, consider page reference string 1, 3,0, 3, 5, 6 and 3 page slots. Initially,all slots are empty, so when 1, 3, 0 come they areallocated to the empty slots —> 3Page Faults. When 3 comes, it is already in  memoryso —> 0 Page Faults. Then 5comes, it is not available in  memory so it replacesthe oldest page slot i.e'),\n",
       " Document(metadata={'producer': 'Skia/PDF m93 Google Docs Renderer', 'creator': 'PyPDF', 'creationdate': '', 'title': 'Operating System Notes', 'source': 'OS.pdf', 'total_pages': 12, 'page': 6, 'page_label': '7'}, page_content='available in  memory so it replacesthe oldest page slot i.e 1. —> 1Page Fault. Finally, 6 comes,  it is also not availablein memory so it replaces theoldest page slot i.e 3 —> 1 Page Fault.Belady’s anomaly:'),\n",
       " Document(metadata={'producer': 'Skia/PDF m93 Google Docs Renderer', 'creator': 'PyPDF', 'creationdate': '', 'title': 'Operating System Notes', 'source': 'OS.pdf', 'total_pages': 12, 'page': 6, 'page_label': '7'}, page_content='Apni Kaksha 7'),\n",
       " Document(metadata={'producer': 'Skia/PDF m93 Google Docs Renderer', 'creator': 'PyPDF', 'creationdate': '', 'title': 'Operating System Notes', 'source': 'OS.pdf', 'total_pages': 12, 'page': 7, 'page_label': '8'}, page_content='Belady’s anomaly proves that it is possible to have more page faults when increasingthe number of page frames while using the First inFirst Out (FIFO) pagereplacement algorithm.  For example, if we considerreference string ( 3     2     1     03     2     4     3     2     1     0     4 ) and3 slots, we get 9 total page faults, but if weincrease slots to 4, we get 10 page faults.\\n2. Optimal Page replacement–\\nIn this algorithm, pages are replaced which are notused for the longest duration oftime in the future.'),\n",
       " Document(metadata={'producer': 'Skia/PDF m93 Google Docs Renderer', 'creator': 'PyPDF', 'creationdate': '', 'title': 'Operating System Notes', 'source': 'OS.pdf', 'total_pages': 12, 'page': 7, 'page_label': '8'}, page_content='Let us consider page reference string 7 0 1 2 0 30 4 2 3 0 3 2 and 4 page slots.Initially, all slots are empty, so when 7 0 1 2 areallocated to the empty slots —> 4Page faults. 0 is already there so —> 0 Page fault.When 3 came it will take theplace of 7 because it is not used for the longestduration of time in the future.—> 1Page fault. 0 is already there so —> 0 Page fault.4 will takes place of 1 —> 1 PageFault. Now for the further page reference string —>0 Page fault because they arealready available in the memory.Optimal page replacement is perfect, but not possiblein practice as an'),\n",
       " Document(metadata={'producer': 'Skia/PDF m93 Google Docs Renderer', 'creator': 'PyPDF', 'creationdate': '', 'title': 'Operating System Notes', 'source': 'OS.pdf', 'total_pages': 12, 'page': 7, 'page_label': '8'}, page_content='replacement is perfect, but not possiblein practice as an operatingsystem cannot know future requests. The use of Optimal Page replacement is to setup a benchmark so that other replacement algorithmscan be analyzed against it.'),\n",
       " Document(metadata={'producer': 'Skia/PDF m93 Google Docs Renderer', 'creator': 'PyPDF', 'creationdate': '', 'title': 'Operating System Notes', 'source': 'OS.pdf', 'total_pages': 12, 'page': 7, 'page_label': '8'}, page_content='3. Least Recently Used (LRU)–'),\n",
       " Document(metadata={'producer': 'Skia/PDF m93 Google Docs Renderer', 'creator': 'PyPDF', 'creationdate': '', 'title': 'Operating System Notes', 'source': 'OS.pdf', 'total_pages': 12, 'page': 7, 'page_label': '8'}, page_content='In this algorithm, the page will be replaced withthe one which is least recently used.Let say the page reference string 7 0 1 2 0 3 0 42 3 0 3 2 . Initially, we had 4-pageslots empty. Initially, all slots are empty, so when7 0 1 2 are allocated to the emptyslots —> 4 Page faults. 0 is already there so —> 0Page fault. When 3 comes it willtake the place of 7 because it is least recently used—> 1 Page fault. 0 is already inmemory so —> 0 Page fault. 4 will take place of 1—> 1 Page Fault. Now for thefurther page reference string —>0 Page faultbecausethey are already available inthe memory.'),\n",
       " Document(metadata={'producer': 'Skia/PDF m93 Google Docs Renderer', 'creator': 'PyPDF', 'creationdate': '', 'title': 'Operating System Notes', 'source': 'OS.pdf', 'total_pages': 12, 'page': 7, 'page_label': '8'}, page_content='Apni Kaksha 8'),\n",
       " Document(metadata={'producer': 'Skia/PDF m93 Google Docs Renderer', 'creator': 'PyPDF', 'creationdate': '', 'title': 'Operating System Notes', 'source': 'OS.pdf', 'total_pages': 12, 'page': 8, 'page_label': '9'}, page_content='● Disk Scheduling: Disk scheduling is done by operating systems to schedule I/Orequests arriving for disk. Disk scheduling is alsoknown as I/O scheduling.\\n1. Seek Time:Seek time is the time taken to locate thedisk arm to a specified track\\nwhere the data is to be read or written.\\n2. Rotational Latency:Rotational Latency is the timetaken by the desired sector of\\ndisk to rotate into a position so that it can accessthe read/write heads.\\n3. Transfer Time:Transfer time is the time to transferthe data. It depends on the\\nrotating speed of the disk and number of bytes tobe transferred.'),\n",
       " Document(metadata={'producer': 'Skia/PDF m93 Google Docs Renderer', 'creator': 'PyPDF', 'creationdate': '', 'title': 'Operating System Notes', 'source': 'OS.pdf', 'total_pages': 12, 'page': 8, 'page_label': '9'}, page_content='4. Disk Access Time:Seek Time + Rotational Latency +Transfer Time\\n5. Disk Response Time:Response Time is the average of time spent by a request\\nwaiting to perform its I/O operation. Average Responsetime is the response time ofall requests.\\n●\\nDisk Scheduling Algorithms (Important):\\n1. FCFS:FCFS is the simplest of all the Disk SchedulingAlgorithms. In FCFS, the\\nrequests are addressed in the order they arrive inthe disk queue.\\n2. SSTF:In SSTF (Shortest Seek Time First), requestshaving the shortest seek time'),\n",
       " Document(metadata={'producer': 'Skia/PDF m93 Google Docs Renderer', 'creator': 'PyPDF', 'creationdate': '', 'title': 'Operating System Notes', 'source': 'OS.pdf', 'total_pages': 12, 'page': 8, 'page_label': '9'}, page_content='are executed first. So, the seek time of every requestis calculated in advance in aqueue and then they are scheduled according to theircalculated seek time. As aresult, the request near the disk arm will get executedfirst.\\n3. SCAN:In SCAN algorithm the disk arm moves into aparticular direction and\\nservices the requests coming in its path and afterreaching the end of the disk, itreverses its direction and again services the requestarriving in its path. So, thisalgorithm works like an elevator and hence is alsoknown aselevator algorithm.'),\n",
       " Document(metadata={'producer': 'Skia/PDF m93 Google Docs Renderer', 'creator': 'PyPDF', 'creationdate': '', 'title': 'Operating System Notes', 'source': 'OS.pdf', 'total_pages': 12, 'page': 8, 'page_label': '9'}, page_content='4. CSCAN:In SCAN algorithm, the disk arm again scansthe path that has been\\nscanned, after reversing its direction. So, it maybe possible that too many requestsare waiting at the other end or there may be zeroor few requests pending at thescanned area.\\nApni Kaksha 9'),\n",
       " Document(metadata={'producer': 'Skia/PDF m93 Google Docs Renderer', 'creator': 'PyPDF', 'creationdate': '', 'title': 'Operating System Notes', 'source': 'OS.pdf', 'total_pages': 12, 'page': 9, 'page_label': '10'}, page_content='5. LOOK:It is similar to the SCAN disk scheduling algorithm except for the difference\\nthat the disk arm in spite of going to the end ofthe disk goes only to the last requestto be serviced in front of the head and then reversesits direction from there only.Thus it prevents the extra delay which occurred dueto unnecessary traversal to theend of the disk.\\n6. CLOOK:As LOOK is similar to SCAN algorithm, CLOOKis similar to CSCAN disk'),\n",
       " Document(metadata={'producer': 'Skia/PDF m93 Google Docs Renderer', 'creator': 'PyPDF', 'creationdate': '', 'title': 'Operating System Notes', 'source': 'OS.pdf', 'total_pages': 12, 'page': 9, 'page_label': '10'}, page_content='scheduling algorithm. In CLOOK, the disk arm in spiteof going to the end goes onlyto the last request to be serviced in front of thehead and then from there goes to theother end’s last request. Thus, it also prevents theextra delay which occurred due tounnecessary traversal to the end of the disk.\\nApni Kaksha 10'),\n",
       " Document(metadata={'producer': 'Skia/PDF m93 Google Docs Renderer', 'creator': 'PyPDF', 'creationdate': '', 'title': 'Operating System Notes', 'source': 'OS.pdf', 'total_pages': 12, 'page': 10, 'page_label': '11'}, page_content='Key Terms\\n● Real-timesystemisusedinthecasewhenrigid-timerequirementshavebeenplacedontheoperationofa processor. It containswelldefinedandfixedtimeconstraints.● A monolithic kernelis a kernel which includes alloperating system code in asingle executable image.● Microkernel:Microkernelis the kernelwhichrunsminimalperformanceaffectingservicesfortheoperatingsystem.Inthemicrokerneloperatingsystemall other operations are performed by the processor.\\nMacro Kernel:Macro Kernel is a combination of microand monolithic kernel.'),\n",
       " Document(metadata={'producer': 'Skia/PDF m93 Google Docs Renderer', 'creator': 'PyPDF', 'creationdate': '', 'title': 'Operating System Notes', 'source': 'OS.pdf', 'total_pages': 12, 'page': 10, 'page_label': '11'}, page_content=\"● Re-entrancy :It is a very useful memory saving techniquethat is used formulti-programmed time sharing systems. It providesfunctionality that multipleusers can share a single copy of a program duringthe same period. It has twokey aspects:The program code cannot modify itselfand the local data for eachuser process must be stored separately.● Demand pagingspecifies that if an area of memoryis not currently being used,it is swapped to disk to make room for an application'sneed.● Virtual memory (Imp)is a very useful memory managementtechnique whichenables processes to execute outside of memory.\"),\n",
       " Document(metadata={'producer': 'Skia/PDF m93 Google Docs Renderer', 'creator': 'PyPDF', 'creationdate': '', 'title': 'Operating System Notes', 'source': 'OS.pdf', 'total_pages': 12, 'page': 10, 'page_label': '11'}, page_content='whichenables processes to execute outside of memory. Thistechnique is especiallyused when an executing program cannot fit in the physicalmemory.● RAIDstands for Redundant Array of Independent Disks.It is used to store thesame data redundantly to improve the overall performance.There are 7 RAIDlevels.● Logical address spacespecifies the address that isgenerated by the CPU. Onthe other hand,physical address spacespecifies theaddress that is seen bythe memory unit.'),\n",
       " Document(metadata={'producer': 'Skia/PDF m93 Google Docs Renderer', 'creator': 'PyPDF', 'creationdate': '', 'title': 'Operating System Notes', 'source': 'OS.pdf', 'total_pages': 12, 'page': 10, 'page_label': '11'}, page_content='Apni Kaksha 11'),\n",
       " Document(metadata={'producer': 'Skia/PDF m93 Google Docs Renderer', 'creator': 'PyPDF', 'creationdate': '', 'title': 'Operating System Notes', 'source': 'OS.pdf', 'total_pages': 12, 'page': 11, 'page_label': '12'}, page_content='● Fragmentationis a phenomenon of memory wastage. It reduces the capacityand performance because space is used inefficiently.\\n1. Internal fragmentation: It occurs when we deal withthe systems thathave fixed size allocation units.\\n2. External fragmentation: It occurs when we deal withsystems that havevariable-size allocation units.'),\n",
       " Document(metadata={'producer': 'Skia/PDF m93 Google Docs Renderer', 'creator': 'PyPDF', 'creationdate': '', 'title': 'Operating System Notes', 'source': 'OS.pdf', 'total_pages': 12, 'page': 11, 'page_label': '12'}, page_content='● Spoolingis a process in which data is temporarilygathered to be used andexecuted by a device, program or the system. It isassociated with printing. Whendifferent applications send output to the printerat the same time, spooling keepsthese all jobs into a disk file and queues them accordinglyto the printer.\\n● StarvationisResourcemanagementproblem.Inthisproblem,awaitingprocessdoesnotgettheresourcesit needsfora longtimebecausetheresourcesarebeing allocated to other processes.\\n● Agingis a technique used to avoid starvation in theresource scheduling system.'),\n",
       " Document(metadata={'producer': 'Skia/PDF m93 Google Docs Renderer', 'creator': 'PyPDF', 'creationdate': '', 'title': 'Operating System Notes', 'source': 'OS.pdf', 'total_pages': 12, 'page': 11, 'page_label': '12'}, page_content='● Advantages of multithreaded programming:\\n1. Enhance the responsiveness to the users.\\n2. Resource sharing within the process.\\n3. Economical\\n4. Completely utilize the multiprocessing architecture.\\n● Thrashingis a phenomenon in virtual memory schemeswhen the processorspends most of its time in swapping pages, ratherthan executing instructions.\\nApni Kaksha 12')]"
      ]
     },
     "execution_count": 2,
     "metadata": {},
     "output_type": "execute_result"
    }
   ],
   "source": [
    "splitter=RecursiveCharacterTextSplitter(chunk_size=600, chunk_overlap=60)\n",
    "docs=splitter.split_documents(document)\n",
    "docs"
   ]
  },
  {
   "cell_type": "code",
   "execution_count": 3,
   "id": "c24abe5b",
   "metadata": {},
   "outputs": [
    {
     "name": "stderr",
     "output_type": "stream",
     "text": [
      "C:\\Users\\Tatkare\\AppData\\Local\\Temp\\ipykernel_8232\\737642593.py:1: LangChainDeprecationWarning: The class `OllamaEmbeddings` was deprecated in LangChain 0.3.1 and will be removed in 1.0.0. An updated version of the class exists in the :class:`~langchain-ollama package and should be used instead. To use it run `pip install -U :class:`~langchain-ollama` and import as `from :class:`~langchain_ollama import OllamaEmbeddings``.\n",
      "  embed=OllamaEmbeddings(model=\"gemma:2b\")\n"
     ]
    }
   ],
   "source": [
    "embed=OllamaEmbeddings(model=\"gemma:2b\")\n",
    "embedded=embed.embed_documents(docs)"
   ]
  },
  {
   "cell_type": "code",
   "execution_count": 4,
   "id": "0c39419e",
   "metadata": {},
   "outputs": [
    {
     "data": {
      "text/plain": [
       "<langchain_community.vectorstores.faiss.FAISS at 0x250ff55beb0>"
      ]
     },
     "execution_count": 4,
     "metadata": {},
     "output_type": "execute_result"
    }
   ],
   "source": [
    "db=FAISS.from_documents(docs, embed)\n",
    "db"
   ]
  },
  {
   "cell_type": "code",
   "execution_count": 1,
   "id": "8a485ca5",
   "metadata": {},
   "outputs": [
    {
     "ename": "NameError",
     "evalue": "name 'db' is not defined",
     "output_type": "error",
     "traceback": [
      "\u001b[1;31m---------------------------------------------------------------------------\u001b[0m",
      "\u001b[1;31mNameError\u001b[0m                                 Traceback (most recent call last)",
      "Cell \u001b[1;32mIn[1], line 2\u001b[0m\n\u001b[0;32m      1\u001b[0m query\u001b[38;5;241m=\u001b[39m\u001b[38;5;124m\"\u001b[39m\u001b[38;5;124mWhat is Fragmentation\u001b[39m\u001b[38;5;124m\"\u001b[39m\n\u001b[1;32m----> 2\u001b[0m result\u001b[38;5;241m=\u001b[39m\u001b[43mdb\u001b[49m\u001b[38;5;241m.\u001b[39msimilarity_search(query)\n\u001b[0;32m      3\u001b[0m result[\u001b[38;5;241m0\u001b[39m]\u001b[38;5;241m.\u001b[39mpage_content\n",
      "\u001b[1;31mNameError\u001b[0m: name 'db' is not defined"
     ]
    }
   ],
   "source": [
    "query=\"What is Fragmentation\"\n",
    "result=db.similarity_search(query)\n",
    "result[0].page_content"
   ]
  },
  {
   "cell_type": "code",
   "execution_count": null,
   "id": "726cd33f",
   "metadata": {},
   "outputs": [],
   "source": []
  }
 ],
 "metadata": {
  "kernelspec": {
   "display_name": "Python 3",
   "language": "python",
   "name": "python3"
  },
  "language_info": {
   "codemirror_mode": {
    "name": "ipython",
    "version": 3
   },
   "file_extension": ".py",
   "mimetype": "text/x-python",
   "name": "python",
   "nbconvert_exporter": "python",
   "pygments_lexer": "ipython3",
   "version": "3.10.0"
  }
 },
 "nbformat": 4,
 "nbformat_minor": 5
}
