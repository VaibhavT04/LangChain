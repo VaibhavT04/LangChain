{
 "cells": [
  {
   "cell_type": "code",
   "execution_count": 10,
   "id": "da36e15f",
   "metadata": {},
   "outputs": [],
   "source": [
    "from langchain_community.llms import Ollama\n",
    "llm = Ollama(model=\"gemma:2b\")"
   ]
  },
  {
   "cell_type": "code",
   "execution_count": 11,
   "id": "36eba002",
   "metadata": {},
   "outputs": [],
   "source": [
    "from langchain.prompts import ChatPromptTemplate, MessagesPlaceholder\n",
    "from langchain.memory import ConversationSummaryMemory\n",
    "from langchain.schema import StrOutputParser\n",
    "from langchain.chains import LLMChain"
   ]
  },
  {
   "cell_type": "code",
   "execution_count": 12,
   "id": "2716ebc8",
   "metadata": {},
   "outputs": [],
   "source": [
    "memory=ConversationSummaryMemory(\n",
    "    llm=llm,\n",
    "    memory_key=\"history\",\n",
    "    return_messages=True\n",
    ")"
   ]
  },
  {
   "cell_type": "code",
   "execution_count": 13,
   "id": "8b7ced80",
   "metadata": {},
   "outputs": [],
   "source": [
    "prompt = ChatPromptTemplate.from_messages([\n",
    "    (\"system\",\"You are a helpful mentor and Football Expert\"),\n",
    "    MessagesPlaceholder(variable_name=\"history\"),\n",
    "    (\"human\",\"{question}\")\n",
    "])"
   ]
  },
  {
   "cell_type": "code",
   "execution_count": 14,
   "id": "d50a7dd3",
   "metadata": {},
   "outputs": [],
   "source": [
    "chain=LLMChain(\n",
    "    llm=llm,\n",
    "    prompt=prompt,\n",
    "    memory=memory,\n",
    "    output_parser=StrOutputParser()\n",
    ")"
   ]
  },
  {
   "cell_type": "code",
   "execution_count": 19,
   "id": "c708c1ee",
   "metadata": {},
   "outputs": [
    {
     "name": "stdout",
     "output_type": "stream",
     "text": [
      "Sure, here is a more general answer about what football is:\n",
      "\n",
      "Football, also known as soccer in some parts of the world, is a team sport played between two teams of 11 players each on a rectangular field with a goal at each end. The objective of the game is to score more points than your opponent by kicking or passing the ball between players.\n"
     ]
    }
   ],
   "source": [
    "print(chain.invoke(\"What is football?\")['text'])"
   ]
  },
  {
   "cell_type": "code",
   "execution_count": 18,
   "id": "45a87dc1",
   "metadata": {},
   "outputs": [
    {
     "name": "stdout",
     "output_type": "stream",
     "text": [
      "{'question': 'where is it played?', 'history': [SystemMessage(content='The human asks what the AI thinks of artificial intelligence. The AI thinks artificial intelligence is a force for good because it will help humans reach their full potential. However, this context does not provide any information about the number of players in a team, so I cannot answer this question from the provided context.', additional_kwargs={}, response_metadata={})], 'text': 'The context does not provide any information about the number of players in a team, so I cannot answer this question from the provided context.'}\n"
     ]
    }
   ],
   "source": [
    "print(chain.invoke(\"where is it played?\"))"
   ]
  },
  {
   "cell_type": "code",
   "execution_count": null,
   "id": "454f8afa",
   "metadata": {},
   "outputs": [],
   "source": []
  }
 ],
 "metadata": {
  "kernelspec": {
   "display_name": "Python 3",
   "language": "python",
   "name": "python3"
  },
  "language_info": {
   "codemirror_mode": {
    "name": "ipython",
    "version": 3
   },
   "file_extension": ".py",
   "mimetype": "text/x-python",
   "name": "python",
   "nbconvert_exporter": "python",
   "pygments_lexer": "ipython3",
   "version": "3.10.0"
  }
 },
 "nbformat": 4,
 "nbformat_minor": 5
}
